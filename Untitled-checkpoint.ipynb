{
 "cells": [
  {
   "cell_type": "code",
   "execution_count": 2,
   "id": "34a1066d",
   "metadata": {},
   "outputs": [],
   "source": [
    "import numpy as np # linear algebra\n",
    "import pandas as pd # data processing, CSV file I/O (e.g. pd.read_csv)\n",
    "import os\n",
    "for dirname, _, filenames in os.walk('/kaggle/input'):\n",
    "    for filename in filenames:\n",
    "        print(os.path.join(dirname, filename))"
   ]
  },
  {
   "cell_type": "code",
   "execution_count": 4,
   "id": "653a8cd4",
   "metadata": {},
   "outputs": [
    {
     "name": "stdout",
     "output_type": "stream",
     "text": [
      "<class 'pandas.core.frame.DataFrame'>\n",
      "RangeIndex: 52584 entries, 0 to 52583\n",
      "Data columns (total 18 columns):\n",
      " #   Column           Non-Null Count  Dtype  \n",
      "---  ------           --------------  -----  \n",
      " 0   No               52584 non-null  int64  \n",
      " 1   year             52584 non-null  int64  \n",
      " 2   month            52584 non-null  int64  \n",
      " 3   day              52584 non-null  int64  \n",
      " 4   hour             52584 non-null  int64  \n",
      " 5   season           52584 non-null  int64  \n",
      " 6   PM_Dongsi        25052 non-null  float64\n",
      " 7   PM_Dongsihuan    20508 non-null  float64\n",
      " 8   PM_Nongzhanguan  24931 non-null  float64\n",
      " 9   PM_US Post       50387 non-null  float64\n",
      " 10  DEWP             52579 non-null  float64\n",
      " 11  HUMI             52245 non-null  float64\n",
      " 12  PRES             52245 non-null  float64\n",
      " 13  TEMP             52579 non-null  float64\n",
      " 14  cbwd             52579 non-null  object \n",
      " 15  Iws              52579 non-null  float64\n",
      " 16  precipitation    52100 non-null  float64\n",
      " 17  Iprec            52100 non-null  float64\n",
      "dtypes: float64(11), int64(6), object(1)\n",
      "memory usage: 7.2+ MB\n"
     ]
    }
   ],
   "source": [
    "pm = pd.read_csv('C:/Users/guanshan/Desktop/527/BeijingPM20100101_20151231.csv')\n",
    "pm.info()"
   ]
  },
  {
   "cell_type": "code",
   "execution_count": 5,
   "id": "0b9fc6c6",
   "metadata": {},
   "outputs": [
    {
     "data": {
      "text/html": [
       "<div>\n",
       "<style scoped>\n",
       "    .dataframe tbody tr th:only-of-type {\n",
       "        vertical-align: middle;\n",
       "    }\n",
       "\n",
       "    .dataframe tbody tr th {\n",
       "        vertical-align: top;\n",
       "    }\n",
       "\n",
       "    .dataframe thead th {\n",
       "        text-align: right;\n",
       "    }\n",
       "</style>\n",
       "<table border=\"1\" class=\"dataframe\">\n",
       "  <thead>\n",
       "    <tr style=\"text-align: right;\">\n",
       "      <th></th>\n",
       "      <th>PM_US Post</th>\n",
       "      <th>DEWP</th>\n",
       "      <th>HUMI</th>\n",
       "      <th>PRES</th>\n",
       "      <th>TEMP</th>\n",
       "      <th>precipitation</th>\n",
       "    </tr>\n",
       "  </thead>\n",
       "  <tbody>\n",
       "    <tr>\n",
       "      <th>count</th>\n",
       "      <td>50387.000000</td>\n",
       "      <td>52579.000000</td>\n",
       "      <td>52245.000000</td>\n",
       "      <td>52245.000000</td>\n",
       "      <td>52579.000000</td>\n",
       "      <td>52100.000000</td>\n",
       "    </tr>\n",
       "    <tr>\n",
       "      <th>mean</th>\n",
       "      <td>95.904241</td>\n",
       "      <td>2.074554</td>\n",
       "      <td>54.602421</td>\n",
       "      <td>1016.465442</td>\n",
       "      <td>12.587040</td>\n",
       "      <td>19.258683</td>\n",
       "    </tr>\n",
       "    <tr>\n",
       "      <th>std</th>\n",
       "      <td>91.643772</td>\n",
       "      <td>14.222059</td>\n",
       "      <td>25.991338</td>\n",
       "      <td>10.295070</td>\n",
       "      <td>12.098527</td>\n",
       "      <td>4381.035532</td>\n",
       "    </tr>\n",
       "    <tr>\n",
       "      <th>min</th>\n",
       "      <td>1.000000</td>\n",
       "      <td>-40.000000</td>\n",
       "      <td>2.000000</td>\n",
       "      <td>991.000000</td>\n",
       "      <td>-19.000000</td>\n",
       "      <td>0.000000</td>\n",
       "    </tr>\n",
       "    <tr>\n",
       "      <th>25%</th>\n",
       "      <td>27.000000</td>\n",
       "      <td>-10.000000</td>\n",
       "      <td>31.000000</td>\n",
       "      <td>1008.000000</td>\n",
       "      <td>2.000000</td>\n",
       "      <td>0.000000</td>\n",
       "    </tr>\n",
       "    <tr>\n",
       "      <th>50%</th>\n",
       "      <td>69.000000</td>\n",
       "      <td>2.000000</td>\n",
       "      <td>55.000000</td>\n",
       "      <td>1016.000000</td>\n",
       "      <td>14.000000</td>\n",
       "      <td>0.000000</td>\n",
       "    </tr>\n",
       "    <tr>\n",
       "      <th>75%</th>\n",
       "      <td>132.000000</td>\n",
       "      <td>15.000000</td>\n",
       "      <td>78.000000</td>\n",
       "      <td>1025.000000</td>\n",
       "      <td>23.000000</td>\n",
       "      <td>0.000000</td>\n",
       "    </tr>\n",
       "    <tr>\n",
       "      <th>max</th>\n",
       "      <td>994.000000</td>\n",
       "      <td>28.000000</td>\n",
       "      <td>100.000000</td>\n",
       "      <td>1046.000000</td>\n",
       "      <td>42.000000</td>\n",
       "      <td>999990.000000</td>\n",
       "    </tr>\n",
       "  </tbody>\n",
       "</table>\n",
       "</div>"
      ],
      "text/plain": [
       "         PM_US Post          DEWP          HUMI          PRES          TEMP  \\\n",
       "count  50387.000000  52579.000000  52245.000000  52245.000000  52579.000000   \n",
       "mean      95.904241      2.074554     54.602421   1016.465442     12.587040   \n",
       "std       91.643772     14.222059     25.991338     10.295070     12.098527   \n",
       "min        1.000000    -40.000000      2.000000    991.000000    -19.000000   \n",
       "25%       27.000000    -10.000000     31.000000   1008.000000      2.000000   \n",
       "50%       69.000000      2.000000     55.000000   1016.000000     14.000000   \n",
       "75%      132.000000     15.000000     78.000000   1025.000000     23.000000   \n",
       "max      994.000000     28.000000    100.000000   1046.000000     42.000000   \n",
       "\n",
       "       precipitation  \n",
       "count   52100.000000  \n",
       "mean       19.258683  \n",
       "std      4381.035532  \n",
       "min         0.000000  \n",
       "25%         0.000000  \n",
       "50%         0.000000  \n",
       "75%         0.000000  \n",
       "max    999990.000000  "
      ]
     },
     "execution_count": 5,
     "metadata": {},
     "output_type": "execute_result"
    }
   ],
   "source": [
    "pm1=pm[['PM_US Post','DEWP','HUMI','PRES','TEMP','precipitation']]\n",
    "pd.set_option('display.max_columns',500)\n",
    "pm1.describe()"
   ]
  },
  {
   "cell_type": "code",
   "execution_count": 6,
   "id": "72244913",
   "metadata": {},
   "outputs": [
    {
     "data": {
      "text/plain": [
       "0.10926492288569876"
      ]
     },
     "execution_count": 6,
     "metadata": {},
     "output_type": "execute_result"
    }
   ],
   "source": [
    "pm1['PRES'].skew()#Calculate the skewness of the data"
   ]
  },
  {
   "cell_type": "code",
   "execution_count": 7,
   "id": "e5b8a6bb",
   "metadata": {},
   "outputs": [
    {
     "data": {
      "text/plain": [
       "-0.8506464700393117"
      ]
     },
     "execution_count": 7,
     "metadata": {},
     "output_type": "execute_result"
    }
   ],
   "source": [
    "pm1['PRES'].kurt()#Calculate the kurtosis of the data"
   ]
  },
  {
   "cell_type": "code",
   "execution_count": 8,
   "id": "44a996c8",
   "metadata": {},
   "outputs": [],
   "source": [
    "# We Analysis Impact on Season"
   ]
  },
  {
   "cell_type": "code",
   "execution_count": 9,
   "id": "9f642901",
   "metadata": {},
   "outputs": [
    {
     "data": {
      "image/png": "[encoded data removed]",
      "text/plain": [
       "<Figure size 432x288 with 1 Axes>"
      ]
     },
     "metadata": {
      "needs_background": "light"
     },
     "output_type": "display_data"
    },
    {
     "data": {
      "image/png": "[encoded data removed]",
      "text/plain": [
       "<Figure size 432x288 with 1 Axes>"
      ]
     },
     "metadata": {
      "needs_background": "light"
     },
     "output_type": "display_data"
    },
    {
     "data": {
      "image/png": "[encoded data removed]",
      "text/plain": [
       "<Figure size 432x288 with 1 Axes>"
      ]
     },
     "metadata": {
      "needs_background": "light"
     },
     "output_type": "display_data"
    },
    {
     "data": {
      "image/png": "[encoded data removed]",
      "text/plain": [
       "<Figure size 432x288 with 1 Axes>"
      ]
     },
     "metadata": {
      "needs_background": "light"
     },
     "output_type": "display_data"
    }
   ],
   "source": [
    "import matplotlib.pylab as plt\n",
    "spring=pm[(pm[\"season\"]==1)]\n",
    "gp1=spring.groupby(['year'])['PM_US Post']\n",
    "gp1.size()\n",
    "gpa1=gp1.mean()\n",
    "\n",
    "gpa1.plot(kind='bar',figsize=(6,4))\n",
    "plt.title('Spring PM value')\n",
    "plt.xlabel('year')\n",
    "plt.ylabel('PM_US Post')\n",
    "plt.show()\n",
    "summer=pm[(pm[\"season\"]==2)]\n",
    "gp2=summer.groupby(['year'])['PM_US Post']\n",
    "gp2.size()\n",
    "gpa2=gp2.mean()\n",
    "\n",
    "gpa2.plot(kind='bar',figsize=(6,4))\n",
    "plt.title('Summer PM value')\n",
    "plt.xlabel('year')\n",
    "plt.ylabel('PM_US Post')\n",
    "plt.show()\n",
    "autumn=pm[(pm[\"season\"]==3)]\n",
    "gp3=autumn.groupby(['year'])['PM_US Post']\n",
    "gp3.size()\n",
    "gpa3=gp3.mean()\n",
    "\n",
    "gpa3.plot(kind='bar',figsize=(6,4))\n",
    "plt.title('Autumn PM value')\n",
    "plt.xlabel('year')\n",
    "plt.ylabel('PM_US Post')\n",
    "plt.show()\n",
    "winter=pm[(pm[\"season\"]==4)]\n",
    "gp4=winter.groupby(['year'])['PM_US Post']\n",
    "gp4.size()\n",
    "gpa4=gp4.mean()\n",
    "\n",
    "gpa4.plot(kind='bar',figsize=(6,4))\n",
    "plt.title('Winter PM value')\n",
    "plt.xlabel('year')\n",
    "plt.ylabel('PM_US Post')\n",
    "plt.show()"
   ]
  },
  {
   "cell_type": "code",
   "execution_count": 10,
   "id": "dea49047",
   "metadata": {},
   "outputs": [],
   "source": [
    "# We Analysis Impact on wind"
   ]
  },
  {
   "cell_type": "code",
   "execution_count": 11,
   "id": "bb1d8602",
   "metadata": {},
   "outputs": [
    {
     "name": "stdout",
     "output_type": "stream",
     "text": [
      "                 mean                                   \n",
      "cbwd               NE         NW          SE          cv\n",
      "PM_US Post  87.582137  63.695519  109.654871  125.513852\n"
     ]
    }
   ],
   "source": [
    "mypivot=pd.pivot_table(pm,values=['PM_US Post'],columns=['cbwd'],aggfunc=[np.mean])\n",
    "print (mypivot)"
   ]
  },
  {
   "cell_type": "code",
   "execution_count": 12,
   "id": "d88ae4f5",
   "metadata": {},
   "outputs": [],
   "source": [
    "#Calculate the correlation coefficient of a continuous variable"
   ]
  },
  {
   "cell_type": "code",
   "execution_count": 13,
   "id": "d14a9831",
   "metadata": {},
   "outputs": [
    {
     "data": {
      "text/html": [
       "<div>\n",
       "<style scoped>\n",
       "    .dataframe tbody tr th:only-of-type {\n",
       "        vertical-align: middle;\n",
       "    }\n",
       "\n",
       "    .dataframe tbody tr th {\n",
       "        vertical-align: top;\n",
       "    }\n",
       "\n",
       "    .dataframe thead th {\n",
       "        text-align: right;\n",
       "    }\n",
       "</style>\n",
       "<table border=\"1\" class=\"dataframe\">\n",
       "  <thead>\n",
       "    <tr style=\"text-align: right;\">\n",
       "      <th></th>\n",
       "      <th>PM_US Post</th>\n",
       "      <th>DEWP</th>\n",
       "      <th>HUMI</th>\n",
       "      <th>PRES</th>\n",
       "      <th>TEMP</th>\n",
       "      <th>Iws</th>\n",
       "      <th>precipitation</th>\n",
       "      <th>Iprec</th>\n",
       "    </tr>\n",
       "  </thead>\n",
       "  <tbody>\n",
       "    <tr>\n",
       "      <th>PM_US Post</th>\n",
       "      <td>1.000000</td>\n",
       "      <td>0.131236</td>\n",
       "      <td>0.418533</td>\n",
       "      <td>-0.016833</td>\n",
       "      <td>-0.125967</td>\n",
       "      <td>-0.239764</td>\n",
       "      <td>-0.003908</td>\n",
       "      <td>-0.003941</td>\n",
       "    </tr>\n",
       "    <tr>\n",
       "      <th>DEWP</th>\n",
       "      <td>0.131236</td>\n",
       "      <td>1.000000</td>\n",
       "      <td>0.610157</td>\n",
       "      <td>-0.772871</td>\n",
       "      <td>0.819973</td>\n",
       "      <td>-0.289587</td>\n",
       "      <td>-0.000920</td>\n",
       "      <td>-0.000860</td>\n",
       "    </tr>\n",
       "    <tr>\n",
       "      <th>HUMI</th>\n",
       "      <td>0.418533</td>\n",
       "      <td>0.610157</td>\n",
       "      <td>1.000000</td>\n",
       "      <td>-0.233201</td>\n",
       "      <td>0.074743</td>\n",
       "      <td>-0.307673</td>\n",
       "      <td>0.096720</td>\n",
       "      <td>0.120454</td>\n",
       "    </tr>\n",
       "    <tr>\n",
       "      <th>PRES</th>\n",
       "      <td>-0.016833</td>\n",
       "      <td>-0.772871</td>\n",
       "      <td>-0.233201</td>\n",
       "      <td>1.000000</td>\n",
       "      <td>-0.824840</td>\n",
       "      <td>0.172981</td>\n",
       "      <td>-0.063861</td>\n",
       "      <td>-0.072178</td>\n",
       "    </tr>\n",
       "    <tr>\n",
       "      <th>TEMP</th>\n",
       "      <td>-0.125967</td>\n",
       "      <td>0.819973</td>\n",
       "      <td>0.074743</td>\n",
       "      <td>-0.824840</td>\n",
       "      <td>1.000000</td>\n",
       "      <td>-0.142902</td>\n",
       "      <td>-0.003093</td>\n",
       "      <td>-0.003068</td>\n",
       "    </tr>\n",
       "    <tr>\n",
       "      <th>Iws</th>\n",
       "      <td>-0.239764</td>\n",
       "      <td>-0.289587</td>\n",
       "      <td>-0.307673</td>\n",
       "      <td>0.172981</td>\n",
       "      <td>-0.142902</td>\n",
       "      <td>1.000000</td>\n",
       "      <td>-0.001637</td>\n",
       "      <td>-0.001638</td>\n",
       "    </tr>\n",
       "    <tr>\n",
       "      <th>precipitation</th>\n",
       "      <td>-0.003908</td>\n",
       "      <td>-0.000920</td>\n",
       "      <td>0.096720</td>\n",
       "      <td>-0.063861</td>\n",
       "      <td>-0.003093</td>\n",
       "      <td>-0.001637</td>\n",
       "      <td>1.000000</td>\n",
       "      <td>1.000000</td>\n",
       "    </tr>\n",
       "    <tr>\n",
       "      <th>Iprec</th>\n",
       "      <td>-0.003941</td>\n",
       "      <td>-0.000860</td>\n",
       "      <td>0.120454</td>\n",
       "      <td>-0.072178</td>\n",
       "      <td>-0.003068</td>\n",
       "      <td>-0.001638</td>\n",
       "      <td>1.000000</td>\n",
       "      <td>1.000000</td>\n",
       "    </tr>\n",
       "  </tbody>\n",
       "</table>\n",
       "</div>"
      ],
      "text/plain": [
       "               PM_US Post      DEWP      HUMI      PRES      TEMP       Iws  \\\n",
       "PM_US Post       1.000000  0.131236  0.418533 -0.016833 -0.125967 -0.239764   \n",
       "DEWP             0.131236  1.000000  0.610157 -0.772871  0.819973 -0.289587   \n",
       "HUMI             0.418533  0.610157  1.000000 -0.233201  0.074743 -0.307673   \n",
       "PRES            -0.016833 -0.772871 -0.233201  1.000000 -0.824840  0.172981   \n",
       "TEMP            -0.125967  0.819973  0.074743 -0.824840  1.000000 -0.142902   \n",
       "Iws             -0.239764 -0.289587 -0.307673  0.172981 -0.142902  1.000000   \n",
       "precipitation   -0.003908 -0.000920  0.096720 -0.063861 -0.003093 -0.001637   \n",
       "Iprec           -0.003941 -0.000860  0.120454 -0.072178 -0.003068 -0.001638   \n",
       "\n",
       "               precipitation     Iprec  \n",
       "PM_US Post         -0.003908 -0.003941  \n",
       "DEWP               -0.000920 -0.000860  \n",
       "HUMI                0.096720  0.120454  \n",
       "PRES               -0.063861 -0.072178  \n",
       "TEMP               -0.003093 -0.003068  \n",
       "Iws                -0.001637 -0.001638  \n",
       "precipitation       1.000000  1.000000  \n",
       "Iprec               1.000000  1.000000  "
      ]
     },
     "execution_count": 13,
     "metadata": {},
     "output_type": "execute_result"
    }
   ],
   "source": [
    "pm2=pm[['PM_US Post','DEWP','HUMI','PRES','TEMP','Iws','precipitation','Iprec']]\n",
    "pm2.corr()"
   ]
  },
  {
   "cell_type": "code",
   "execution_count": 14,
   "id": "8902485a",
   "metadata": {},
   "outputs": [],
   "source": [
    "# Least Squares Regression Model"
   ]
  },
  {
   "cell_type": "code",
   "execution_count": 15,
   "id": "fb48278d",
   "metadata": {},
   "outputs": [
    {
     "name": "stdout",
     "output_type": "stream",
     "text": [
      "                            OLS Regression Results                            \n",
      "==============================================================================\n",
      "Dep. Variable:             PM_US Post   R-squared:                       0.142\n",
      "Model:                            OLS   Adj. R-squared:                  0.142\n",
      "Method:                 Least Squares   F-statistic:                     436.5\n",
      "Date:                Sat, 07 May 2022   Prob (F-statistic):               0.00\n",
      "Time:                        13:54:00   Log-Likelihood:            -2.1605e+05\n",
      "No. Observations:               36809   AIC:                         4.321e+05\n",
      "Df Residuals:                   36794   BIC:                         4.323e+05\n",
      "Df Model:                          14                                         \n",
      "Covariance Type:            nonrobust                                         \n",
      "==============================================================================\n",
      "                 coef    std err          t      P>|t|      [0.025      0.975]\n",
      "------------------------------------------------------------------------------\n",
      "const         50.0146     30.258      1.653      0.098      -9.291     109.321\n",
      "TEMP          -1.2465      0.068    -18.206      0.000      -1.381      -1.112\n",
      "Iws           -0.3371      0.010    -34.272      0.000      -0.356      -0.318\n",
      "year_2010     13.9438      5.148      2.709      0.007       3.854      24.033\n",
      "year_2011      9.4193      5.145      1.831      0.067      -0.666      19.504\n",
      "year_2012      2.1538      5.146      0.419      0.676      -7.933      12.240\n",
      "year_2013     16.5496      5.145      3.216      0.001       6.465      26.635\n",
      "year_2014     11.1323      5.145      2.164      0.031       1.047      21.217\n",
      "year_2015     -3.1841      5.118     -0.622      0.534     -13.216       6.847\n",
      "season_1       3.2335      7.604      0.425      0.671     -11.671      18.138\n",
      "season_2       5.6930      7.646      0.745      0.457      -9.293      20.679\n",
      "season_3      18.0296      7.609      2.369      0.018       3.115      32.944\n",
      "season_4      23.0585      7.675      3.004      0.003       8.014      38.103\n",
      "cbwd_NE       28.3895     42.896      0.662      0.508     -55.688     112.467\n",
      "cbwd_NW       14.1657     42.887      0.330      0.741     -69.894      98.226\n",
      "cbwd_SE       65.3539     42.890      1.524      0.128     -18.711     149.419\n",
      "cbwd_cv       65.8211     42.888      1.535      0.125     -18.241     149.883\n",
      "==============================================================================\n",
      "Omnibus:                    13785.974   Durbin-Watson:                   1.992\n",
      "Prob(Omnibus):                  0.000   Jarque-Bera (JB):            66021.143\n",
      "Skew:                           1.775   Prob(JB):                         0.00\n",
      "Kurtosis:                       8.518   Cond. No.                     4.76e+17\n",
      "==============================================================================\n",
      "\n",
      "Notes:\n",
      "[1] Standard Errors assume that the covariance matrix of the errors is correctly specified.\n",
      "[2] The smallest eigenvalue is 4.86e-28. This might indicate that there are\n",
      "strong multicollinearity problems or that the design matrix is singular.\n"
     ]
    }
   ],
   "source": [
    "import statsmodels.api as sm\n",
    "\n",
    "pm3=pm[['year','season','PM_US Post','TEMP','cbwd','Iws']]\n",
    "pm4=pd.get_dummies(pm3,columns=['year','season','cbwd'])#建立虚拟编码\n",
    "\n",
    "pm4[np.isnan(pm4)] = 0\n",
    "pm4[np.isinf(pm4)] = 0\n",
    "\n",
    "\n",
    "train=pm4.sample(frac=0.7)\n",
    "test=pm4[~pm4.index.isin(train.index)]\n",
    "xtrain,ytrain=train.drop('PM_US Post',axis=1),train['PM_US Post']\n",
    "xtest,ytest=test.drop('PM_US Post',axis=1),test['PM_US Post']\n",
    "import statsmodels.api as sm\n",
    "xtrain=sm.add_constant(xtrain)#添加常数项\n",
    "xtest=sm.add_constant(xtest)\n",
    "results=sm.OLS(ytrain,xtrain).fit()\n",
    "print(results.summary())"
   ]
  },
  {
   "cell_type": "code",
   "execution_count": null,
   "id": "f4ac6155",
   "metadata": {},
   "outputs": [],
   "source": []
  }
 ],
 "metadata": {
  "kernelspec": {
   "display_name": "Python 3",
   "language": "python",
   "name": "python3"
  },
  "language_info": {
   "codemirror_mode": {
    "name": "ipython",
    "version": 3
   },
   "file_extension": ".py",
   "mimetype": "text/x-python",
   "name": "python",
   "nbconvert_exporter": "python",
   "pygments_lexer": "ipython3",
   "version": "3.8.8"
  }
 },
 "nbformat": 4,
 "nbformat_minor": 5
}
